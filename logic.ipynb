{
  "nbformat": 4,
  "nbformat_minor": 0,
  "metadata": {
    "colab": {
      "provenance": []
    },
    "kernelspec": {
      "name": "python3",
      "display_name": "Python 3"
    },
    "language_info": {
      "name": "python"
    }
  },
  "cells": [
    {
      "cell_type": "code",
      "execution_count": 2,
      "metadata": {
        "id": "iVEdru31CYJM",
        "colab": {
          "base_uri": "https://localhost:8080/"
        },
        "outputId": "60c4dbb3-6a6e-46bb-bb72-7a0c995fd655"
      },
      "outputs": [
        {
          "output_type": "stream",
          "name": "stdout",
          "text": [
            "ROI Multiplier: 0.03\n",
            "Time to Break Even: 38.44 months\n"
          ]
        }
      ],
      "source": [
        "# hit the play button to the left\n",
        "\n",
        "# Default values with CTR, number of pages, and detailed investment costs\n",
        "default_visits_per_page = 500\n",
        "default_ctr = 0.09  # 9% CTR from SERPs\n",
        "default_conversion_rate = 0.02\n",
        "default_order_value = 25\n",
        "\n",
        "# Costs per page\n",
        "cost_keyword_research = 200\n",
        "cost_content_creation = 200\n",
        "cost_seo_optimisation = 75\n",
        "cost_graphic_design = 130\n",
        "cost_website_development = 100\n",
        "cost_seo_monitoring = 160\n",
        "\n",
        "# Calculate total investment per page and overall investment\n",
        "total_investment_per_page = (cost_keyword_research + cost_content_creation +\n",
        "                             cost_seo_optimisation + cost_graphic_design +\n",
        "                             cost_website_development + cost_seo_monitoring)\n",
        "\n",
        "default_number_of_pages = 10  # Easily updatable number of pages\n",
        "default_investment = total_investment_per_page * default_number_of_pages  # Overall investment\n",
        "\n",
        "# Function to calculate ROI with CTR, number of pages, and updated investment\n",
        "def calculate_roi(visits_per_page=default_visits_per_page, ctr=default_ctr,\n",
        "                  conversion_rate=default_conversion_rate, order_value=default_order_value,\n",
        "                  total_investment=default_investment, number_of_pages=default_number_of_pages):\n",
        "    total_visits_from_serps = visits_per_page * number_of_pages\n",
        "    total_visits = total_visits_from_serps * ctr  # Apply CTR to get actual visits to the site\n",
        "    total_conversions = total_visits * conversion_rate\n",
        "    total_revenue = total_conversions * order_value\n",
        "    months_to_break_even = total_investment / total_revenue\n",
        "    roi_multiplier = total_revenue / total_investment\n",
        "    return roi_multiplier, months_to_break_even\n",
        "\n",
        "# Calculate and display ROI with updated values including detailed costs\n",
        "roi_multiplier, months_to_break_even = calculate_roi()\n",
        "print(f\"ROI Multiplier: {roi_multiplier:.2f}\")\n",
        "print(f\"Time to Break Even: {months_to_break_even:.2f} months\")\n",
        "\n"
      ]
    }
  ]
}