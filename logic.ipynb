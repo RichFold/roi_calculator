{
  "nbformat": 4,
  "nbformat_minor": 0,
  "metadata": {
    "colab": {
      "provenance": []
    },
    "kernelspec": {
      "name": "python3",
      "display_name": "Python 3"
    },
    "language_info": {
      "name": "python"
    }
  },
  "cells": [
    {
      "cell_type": "code",
      "execution_count": null,
      "metadata": {
        "id": "iVEdru31CYJM"
      },
      "outputs": [],
      "source": [
        "# Default values\n",
        "default_visits_per_page = 500\n",
        "default_conversion_rate = 0.02\n",
        "default_order_value = 25\n",
        "default_investment = 7650  # Lower end of the investment scale\n",
        "\n",
        "# Function to calculate ROI\n",
        "def calculate_roi(visits_per_page=default_visits_per_page, conversion_rate=default_conversion_rate,\n",
        "                  order_value=default_order_value, total_investment=default_investment):\n",
        "    total_visits = visits_per_page * 10  # Assuming 10 pages\n",
        "    total_conversions = total_visits * conversion_rate\n",
        "    total_revenue = total_conversions * order_value\n",
        "    months_to_break_even = total_investment / total_revenue\n",
        "    roi_multiplier = total_revenue / total_investment\n",
        "    return roi_multiplier, months_to_break_even\n",
        "\n",
        "# User inputs (can use input() function for interactivity in a notebook environment)\n",
        "# Example:\n",
        "# visits_per_page = int(input(\"Enter average monthly visits per page (default 500): \") or default_visits_per_page)\n",
        "\n",
        "# Calculate and display ROI\n",
        "roi_multiplier, months_to_break_even = calculate_roi()\n",
        "print(f\"ROI Multiplier: {roi_multiplier:.2f}\")\n",
        "print(f\"Time to Break Even: {months_to_break_even:.2f} months\")\n"
      ]
    }
  ]
}
